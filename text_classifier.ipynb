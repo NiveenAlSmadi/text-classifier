{
 "cells": [
  {
   "cell_type": "markdown",
   "id": "b88aa308-b41d-49c4-b967-a4b0fd841871",
   "metadata": {},
   "source": [
    "## Machine Learning Intro lab(16)\n",
    "### Data Set Name : Sentiment Labelled Sentences Data Set\n",
    "#### Author: Niveen Alsmadi\n",
    "#### Date: 25/June/2021"
   ]
  },
  {
   "cell_type": "code",
   "execution_count": 1,
   "id": "9fdd35c6-455a-458d-ab4a-9cd8f2d346ff",
   "metadata": {},
   "outputs": [],
   "source": [
    "import pandas as pd\n",
    "from sklearn.feature_extraction.text import CountVectorizer\n",
    "from sklearn.model_selection import train_test_split\n",
    "from sklearn.linear_model import LogisticRegression\n"
   ]
  },
  {
   "cell_type": "code",
   "execution_count": 2,
   "id": "48d67609-7379-4859-88b5-7cef2b1e9bf6",
   "metadata": {},
   "outputs": [],
   "source": [
    "filepath_dict = {'yelp':   'data/sentiment_analysis/yelp_labelled.txt',\n",
    "                 'amazon': 'data/sentiment_analysis/amazon_cells_labelled.txt',\n",
    "                 'imdb':   'data/sentiment_analysis/imdb_labelled.txt'}"
   ]
  },
  {
   "cell_type": "code",
   "execution_count": 3,
   "id": "8de5a795-36f1-403e-94e8-efa49c9a6096",
   "metadata": {},
   "outputs": [
    {
     "name": "stdout",
     "output_type": "stream",
     "text": [
      "                                              sentence  label source\n",
      "0                             Wow... Loved this place.      1   yelp\n",
      "1                                   Crust is not good.      0   yelp\n",
      "2            Not tasty and the texture was just nasty.      0   yelp\n",
      "3    Stopped by during the late May bank holiday of...      1   yelp\n",
      "4    The selection on the menu was great and so wer...      1   yelp\n",
      "..                                                 ...    ...    ...\n",
      "743  I just got bored watching Jessice Lange take h...      0   imdb\n",
      "744  Unfortunately, any virtue in this film's produ...      0   imdb\n",
      "745                   In a word, it is embarrassing.        0   imdb\n",
      "746                               Exceptionally bad!        0   imdb\n",
      "747  All in all its an insult to one's intelligence...      0   imdb\n",
      "\n",
      "[2748 rows x 3 columns]\n"
     ]
    }
   ],
   "source": [
    "df_list = []\n",
    "for source, filepath in filepath_dict.items():\n",
    "    df = pd.read_csv(filepath, names=['sentence', 'label'], sep='\\t')\n",
    "    df['source'] = source  # Add another column filled with the source name\n",
    "    df_list.append(df)\n",
    "\n",
    "df = pd.concat(df_list)\n",
    "print(df)"
   ]
  },
  {
   "cell_type": "code",
   "execution_count": 4,
   "id": "39ac25bb-6dbf-40e7-87a1-2321f3c167f5",
   "metadata": {},
   "outputs": [
    {
     "data": {
      "text/plain": [
       "{'Niveen': 0, 'likes': 5, 'ice': 4, 'cream': 2, 'hates': 3, 'cats': 1}"
      ]
     },
     "execution_count": 4,
     "metadata": {},
     "output_type": "execute_result"
    }
   ],
   "source": [
    "sentences = ['Niveen likes ice cream', 'Niveen hates cats.']\n",
    "vectorizer = CountVectorizer(min_df=0, lowercase=False)\n",
    "vectorizer.fit(sentences)\n",
    "vectorizer.vocabulary_"
   ]
  },
  {
   "cell_type": "code",
   "execution_count": 5,
   "id": "a6b3eae3-63bb-43ed-aad6-5e31d02cecba",
   "metadata": {},
   "outputs": [
    {
     "data": {
      "text/plain": [
       "array([[1, 0, 1, 0, 1, 1],\n",
       "       [1, 1, 0, 1, 0, 0]])"
      ]
     },
     "execution_count": 5,
     "metadata": {},
     "output_type": "execute_result"
    }
   ],
   "source": [
    "vectorizer.transform(sentences).toarray()"
   ]
  },
  {
   "cell_type": "code",
   "execution_count": 6,
   "id": "42831c9f-133e-48a9-a94e-f49b7ed9455f",
   "metadata": {},
   "outputs": [],
   "source": [
    "df_yelp = df[df['source'] == 'yelp']\n",
    "df_amazon = df[df['source'] == 'amazon'] \n",
    "df_imdb = df[df['source'] == 'imdb']"
   ]
  },
  {
   "cell_type": "code",
   "execution_count": 7,
   "id": "a0cc38aa-7f0b-41c5-9c8f-d28e902d2914",
   "metadata": {},
   "outputs": [],
   "source": [
    "yelp_sentences = df_yelp['sentence'].values\n",
    "amazon_sentences = df_amazon['sentence'].values\n",
    "imdb_sentences = df_imdb['sentence'].values"
   ]
  },
  {
   "cell_type": "code",
   "execution_count": 8,
   "id": "4fde3241-52aa-463a-9f56-882a6b60b4ac",
   "metadata": {},
   "outputs": [],
   "source": [
    "y_yelp = df_yelp['label'].values\n",
    "y_amazon = df_amazon['label'].values\n",
    "y_imdb = df_imdb['label'].values"
   ]
  },
  {
   "cell_type": "code",
   "execution_count": 9,
   "id": "75003908-73e1-42b3-a5ba-e1bde105c94c",
   "metadata": {},
   "outputs": [],
   "source": [
    "yelp_sentences_train, yelp_sentences_test, y_yelp_train, y_yelp_test = train_test_split(yelp_sentences, y_yelp, test_size=0.25, random_state=1000)\n",
    "amazon_sentences_train, amazon_sentences_test, y_amazon_train, y_amazon_test = train_test_split(amazon_sentences, y_amazon, test_size=0.25, random_state=1000)\n",
    "imdb_sentences_train, imdb_sentences_test, y_imdb_train, y_imdb_test = train_test_split(imdb_sentences, y_imdb, test_size=0.25, random_state=1000)"
   ]
  },
  {
   "cell_type": "code",
   "execution_count": 10,
   "id": "e73f6db4-6ab6-4364-8b99-833c78fa21d2",
   "metadata": {},
   "outputs": [
    {
     "data": {
      "text/plain": [
       "<750x1714 sparse matrix of type '<class 'numpy.int64'>'\n",
       "\twith 7368 stored elements in Compressed Sparse Row format>"
      ]
     },
     "execution_count": 10,
     "metadata": {},
     "output_type": "execute_result"
    }
   ],
   "source": [
    "vectorizer_yelp = CountVectorizer()\n",
    "vectorizer_yelp.fit(yelp_sentences_train)\n",
    "X_yelp_train = vectorizer_yelp.transform(yelp_sentences_train)\n",
    "X_yelp_test  = vectorizer_yelp.transform(yelp_sentences_test)\n",
    "X_yelp_train"
   ]
  },
  {
   "cell_type": "code",
   "execution_count": 11,
   "id": "d1fe552a-2f61-464c-9b30-51fd7561e65e",
   "metadata": {},
   "outputs": [
    {
     "data": {
      "text/plain": [
       "<750x1546 sparse matrix of type '<class 'numpy.int64'>'\n",
       "\twith 6817 stored elements in Compressed Sparse Row format>"
      ]
     },
     "execution_count": 11,
     "metadata": {},
     "output_type": "execute_result"
    }
   ],
   "source": [
    "vectorizer_amazon = CountVectorizer()\n",
    "vectorizer_amazon.fit(amazon_sentences_train)\n",
    "X_amazon_train = vectorizer_amazon.transform(amazon_sentences_train)\n",
    "X_amazon_test  = vectorizer_amazon.transform(amazon_sentences_test)\n",
    "X_amazon_train"
   ]
  },
  {
   "cell_type": "code",
   "execution_count": 12,
   "id": "d97d4db4-bb40-4038-89a6-cbfa7bfbc7af",
   "metadata": {},
   "outputs": [
    {
     "data": {
      "text/plain": [
       "<561x2505 sparse matrix of type '<class 'numpy.int64'>'\n",
       "\twith 8413 stored elements in Compressed Sparse Row format>"
      ]
     },
     "execution_count": 12,
     "metadata": {},
     "output_type": "execute_result"
    }
   ],
   "source": [
    "vectorizer_imdb = CountVectorizer()\n",
    "vectorizer_imdb.fit(imdb_sentences_train)\n",
    "X_imdb_train = vectorizer_imdb.transform(imdb_sentences_train)\n",
    "X_imdb_test  = vectorizer_imdb.transform(imdb_sentences_test)\n",
    "X_imdb_train"
   ]
  },
  {
   "cell_type": "code",
   "execution_count": 13,
   "id": "1ac8859d-5a73-45ae-bfcb-83f6f046e64e",
   "metadata": {},
   "outputs": [
    {
     "name": "stdout",
     "output_type": "stream",
     "text": [
      "Accuracy for yelp data: 0.7960\n",
      "Accuracy for amazon data: 0.7960\n",
      "Accuracy for imdb data: 0.7487\n"
     ]
    }
   ],
   "source": [
    "for source in df['source'].unique():\n",
    "    df_source = df[df['source'] == source]\n",
    "    sentences = df_source['sentence'].values\n",
    "    y = df_source['label'].values\n",
    "\n",
    "    sentences_train, sentences_test, y_train, y_test = train_test_split(\n",
    "        sentences, y, test_size=0.25, random_state=1000)\n",
    "\n",
    "    vectorizer = CountVectorizer()\n",
    "    vectorizer.fit(sentences_train)\n",
    "    X_train = vectorizer.transform(sentences_train)\n",
    "    X_test  = vectorizer.transform(sentences_test)\n",
    "\n",
    "    classifier = LogisticRegression()\n",
    "    classifier.fit(X_train, y_train)\n",
    "    score = classifier.score(X_test, y_test)\n",
    "    print('Accuracy for {} data: {:.4f}'.format(source, score))"
   ]
  },
  {
   "cell_type": "markdown",
   "id": "dac74671-6427-474e-a0be-6544f8982a93",
   "metadata": {},
   "source": [
    "### Summary :"
   ]
  },
  {
   "cell_type": "code",
   "execution_count": 14,
   "id": "6774fca1-8c25-4642-8368-6f95c4ab1e2f",
   "metadata": {},
   "outputs": [
    {
     "data": {
      "text/plain": [
       "{'hight': 1, 'score': 2, 'fail': 0}"
      ]
     },
     "execution_count": 14,
     "metadata": {},
     "output_type": "execute_result"
    }
   ],
   "source": [
    "sentences1 = ['hight score', 'fail']\n",
    "vectorizer = CountVectorizer(min_df=0, lowercase=False)\n",
    "vectorizer.fit(sentences1)\n",
    "vectorizer.vocabulary_"
   ]
  },
  {
   "cell_type": "code",
   "execution_count": 15,
   "id": "113a02be-22c6-4162-a27f-67e5c4cb94b5",
   "metadata": {},
   "outputs": [
    {
     "data": {
      "text/plain": [
       "array([[0, 1, 1],\n",
       "       [1, 0, 0]])"
      ]
     },
     "execution_count": 15,
     "metadata": {},
     "output_type": "execute_result"
    }
   ],
   "source": [
    "vectorizer.transform(sentences1).toarray()"
   ]
  },
  {
   "cell_type": "markdown",
   "id": "4b4fdd59-b6a0-46fa-b372-9db620f37317",
   "metadata": {},
   "source": [
    "##### More ones More positively  "
   ]
  },
  {
   "cell_type": "code",
   "execution_count": null,
   "id": "ddef49b6-fffa-4896-b4f9-a8db4ca98615",
   "metadata": {},
   "outputs": [],
   "source": []
  }
 ],
 "metadata": {
  "kernelspec": {
   "display_name": "Python 3",
   "language": "python",
   "name": "python3"
  },
  "language_info": {
   "codemirror_mode": {
    "name": "ipython",
    "version": 3
   },
   "file_extension": ".py",
   "mimetype": "text/x-python",
   "name": "python",
   "nbconvert_exporter": "python",
   "pygments_lexer": "ipython3",
   "version": "3.9.4"
  }
 },
 "nbformat": 4,
 "nbformat_minor": 5
}
